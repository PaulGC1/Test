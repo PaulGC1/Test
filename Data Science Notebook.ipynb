{
 "cells": [
  {
   "cell_type": "markdown",
   "id": "ada42b2a",
   "metadata": {},
   "source": [
    "# Data Science Notebook"
   ]
  },
  {
   "cell_type": "markdown",
   "id": "7df7850e",
   "metadata": {},
   "source": [
    "## Introduction\n",
    "\n",
    "This notebook provides an overview of key tools, languages, and basic operations used in data science, indeed it has some practical exercises to prove the understanding of the topic."
   ]
  },
  {
   "cell_type": "markdown",
   "id": "912bc6c4",
   "metadata": {},
   "source": [
    "## Data Science Languages\n",
    "\n",
    "- Python  \n",
    "- R  \n",
    "- SQL  \n",
    "- Julia  \n",
    "- Java  \n",
    "- Scala"
   ]
  },
  {
   "cell_type": "markdown",
   "id": "105c79f4",
   "metadata": {},
   "source": [
    "## Data Science Libraries\n",
    "\n",
    "- Pandas  \n",
    "- NumPy  \n",
    "- Matplotlib  \n",
    "- Seaborn  \n",
    "- Scikit-learn  \n",
    "- TensorFlow  \n",
    "- ggplot2"
   ]
  },
  {
   "cell_type": "markdown",
   "id": "6e8e8965",
   "metadata": {},
   "source": [
    "## Data Science Tools\n",
    "\n",
    "| Tool              | Category            |\n",
    "|-------------------|---------------------|\n",
    "| Jupyter Notebook  | IDE / Notebook      |\n",
    "| RStudio           | IDE                 |\n",
    "| Apache Spark      | Big Data Processing |\n",
    "| TensorFlow        | Machine Learning    |\n",
    "| Tableau           | Data Visualization  |\n",
    "| Excel             | Spreadsheet Tool    |\n"
   ]
  },
  {
   "cell_type": "markdown",
   "id": "22810f26",
   "metadata": {},
   "source": [
    "## Examples of Arithmetic Expressions\n",
    "\n",
    "Below are examples of basic arithmetic operations using Python code (with a little bit of sarcasm for the way is done)."
   ]
  },
  {
   "cell_type": "code",
   "execution_count": 17,
   "id": "03f573d3",
   "metadata": {},
   "outputs": [
    {
     "name": "stdout",
     "output_type": "stream",
     "text": [
      "120\n"
     ]
    }
   ],
   "source": [
    "def add(a,b):\n",
    "    return a + b\n",
    "def multiply(a,b):\n",
    "    i=0\n",
    "    result = 0\n",
    "    for i in range(0,b):\n",
    "        result = add(a,result)\n",
    "        i =+ 1\n",
    "    return result\n",
    "\n",
    "num_1 = 12\n",
    "num_2 = 9\n",
    "num_result = add(multiply(num_1,num_2), num_1)\n",
    "print(num_result)\n"
   ]
  },
  {
   "cell_type": "code",
   "execution_count": null,
   "id": "440d0b3e",
   "metadata": {},
   "outputs": [],
   "source": [
    "# Convert 200 minutes to hours\n",
    "minutes = 200\n",
    "hours = minutes / 60\n",
    "hours"
   ]
  },
  {
   "cell_type": "markdown",
   "id": "3fc8447e",
   "metadata": {},
   "source": [
    "## Objectives of the notebook\n",
    "\n",
    "- Learn markdown formatting in Jupyter  \n",
    "- Understand basic arithmetic expressions  \n",
    "- Practice Python code in code cells  \n",
    "- Explore common tools and libraries in data science  \n",
    "- Convert time units using Python"
   ]
  },
  {
   "cell_type": "markdown",
   "id": "8efee2da",
   "metadata": {},
   "source": [
    "Author: Paul Garcerant"
   ]
  }
 ],
 "metadata": {
  "kernelspec": {
   "display_name": "Python 3",
   "language": "python",
   "name": "python3"
  },
  "language_info": {
   "codemirror_mode": {
    "name": "ipython",
    "version": 3
   },
   "file_extension": ".py",
   "mimetype": "text/x-python",
   "name": "python",
   "nbconvert_exporter": "python",
   "pygments_lexer": "ipython3",
   "version": "3.11.9"
  }
 },
 "nbformat": 4,
 "nbformat_minor": 5
}
